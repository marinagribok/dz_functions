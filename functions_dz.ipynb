{
 "cells": [
  {
   "cell_type": "markdown",
   "metadata": {},
   "source": [
    "Вы работаете секретарем и вам постоянно приходят различные документы. Вы должны быть очень внимательны, чтобы не потерять ни один документ. Каталог документов хранится в следующем виде:"
   ]
  },
  {
   "cell_type": "code",
   "execution_count": 2,
   "metadata": {},
   "outputs": [],
   "source": [
    "documents = [\n",
    "    {'type': 'passport', 'number': '2207 876234', 'name': 'Василий Гупкин'},\n",
    "    {'type': 'invoice', 'number': '11-2', 'name': 'Геннадий Покемонов'},\n",
    "    {'type': 'insurance', 'number': '10006', 'name': 'Аристарх Павлов'}\n",
    "]"
   ]
  },
  {
   "cell_type": "code",
   "execution_count": 3,
   "metadata": {},
   "outputs": [],
   "source": [
    "directories = {\n",
    "    '1': ['2207 876234', '11-2'],\n",
    "    '2': ['10006'],\n",
    "    '3': []\n",
    "}"
   ]
  },
  {
   "cell_type": "markdown",
   "metadata": {},
   "source": [
    "Перечень полок, на которых находятся документы хранится в следующем виде:"
   ]
  },
  {
   "cell_type": "code",
   "execution_count": null,
   "metadata": {},
   "outputs": [],
   "source": [
    "def people(documents):\n",
    "    inputnumber = str(input('Введите номер документа: '))\n",
    "    find_number = []\n",
    "    for document in documents:\n",
    "        docdict = dict(document)\n",
    "        doc_number = docdict['number']\n",
    "        if doc_number == inputnumber:\n",
    "            find_number.append(doc_number)\n",
    "            print('Пользователь с этим номером документа: ', docdict['name'])\n",
    "    if find_number == []:\n",
    "        print('Документ не найден')\n",
    "\n",
    "people(documents)"
   ]
  },
  {
   "cell_type": "code",
   "execution_count": null,
   "metadata": {},
   "outputs": [],
   "source": [
    "def shelf(directories):\n",
    "    dokum = str(input('Введите номер документа: '))\n",
    "    find_doc = []\n",
    "    for key, value in directories.items():\n",
    "        for docs in value:\n",
    "            if docs == dokum:\n",
    "                find_doc.append(docs)\n",
    "                print('Полка с этим документом: ', key)\n",
    "    if find_doc == []:\n",
    "        print('Документ не найден')\n",
    "\n",
    "shelf(directories)"
   ]
  },
  {
   "cell_type": "code",
   "execution_count": null,
   "metadata": {},
   "outputs": [],
   "source": [
    "def list(documents):\n",
    "    for docum in documents:\n",
    "        docum_dict = dict(docum)\n",
    "        print(docum_dict['type'],',', docum_dict['number'],',', docum_dict['name'])\n",
    "list(documents)"
   ]
  },
  {
   "cell_type": "code",
   "execution_count": null,
   "metadata": {},
   "outputs": [],
   "source": [
    "def add_shelf(directories): \n",
    "    newdir = str(input('Введите название новой полки: '))\n",
    "    if newdir in directories.keys():\n",
    "        print('Полка с таким названием уже существует')\n",
    "    else: \n",
    "        \n",
    "        directories[newdir] = []\n",
    "        print(directories)\n",
    "add_shelf(directories)"
   ]
  },
  {
   "cell_type": "code",
   "execution_count": null,
   "metadata": {},
   "outputs": [],
   "source": [
    "def delete(documents, directories):\n",
    "    deldoc = str(input('Введите номер документа, который нужно удалить: '))\n",
    "    find_doc = []\n",
    "    for docs in documents:\n",
    "        docsdict = dict(docs)\n",
    "        docs_number = docsdict['number']\n",
    "        if docs_number == deldoc:\n",
    "            find_doc.append(docs_number)\n",
    "            documents.remove(docs)\n",
    "    for value in directories.values():\n",
    "            if deldoc in value:\n",
    "                value.remove(deldoc)\n",
    "    if find_doc == []:\n",
    "        print('Документ не найден')       \n",
    "    else:\n",
    "        print('Обновлённый список документов: ', documents)\n",
    "        print('Обновлённые полки: ', directories)\n",
    "\n",
    "delete(documents, directories)\n"
   ]
  },
  {
   "cell_type": "code",
   "execution_count": null,
   "metadata": {},
   "outputs": [],
   "source": [
    "def move(directories):\n",
    "    movedoc = str(input('Введите номер документа, который нужно переместить: '))\n",
    "    new_sh = str(input('Введите номер полки, куда переместить документ: '))\n",
    "    find_doc = []\n",
    "    find_sh = []\n",
    "    for key, value in directories.items():\n",
    "        for docs in value:\n",
    "            if docs == movedoc:\n",
    "                find_doc.append(docs)\n",
    "                find_sh.append(key)\n",
    "            \n",
    "    if (find_doc == []) or (find_sh == []):\n",
    "        print('Неправильный ввод')\n",
    "    else:       \n",
    "        for key, value in directories.items():\n",
    "            for docs in value:\n",
    "                if docs == movedoc:\n",
    "                    value.remove(docs)          \n",
    "            if key == new_sh:\n",
    "                value.append(movedoc)\n",
    "        print('Новый список полок:', directories)\n",
    "move(directories)          \n"
   ]
  },
  {
   "cell_type": "code",
   "execution_count": 6,
   "metadata": {},
   "outputs": [
    {
     "name": "stdout",
     "output_type": "stream",
     "text": [
      "Введите тип нового документа: 4\n",
      "Введите номер нового документа: 4\n",
      "Введите фамилию и имя: 4\n",
      "Введите номер полки, куда положить документ: 5\n",
      "Нет такой полки\n"
     ]
    }
   ],
   "source": [
    "def add(documents, directories):\n",
    "    newtype = str(input('Введите тип нового документа: '))\n",
    "    newnumber = str(input('Введите номер нового документа: '))\n",
    "    newname = str(input('Введите фамилию и имя: '))\n",
    "    ch_polka = str(input('Введите номер полки, куда положить документ: '))\n",
    "    ch_shelf = []\n",
    "    for key, value in directories.items():\n",
    "        if key == ch_polka:\n",
    "            ch_shelf.append(newnumber)\n",
    "    if ch_shelf == []:\n",
    "        print('Нет такой полки')\n",
    "    else:\n",
    "        new_dict = {'type': newtype, 'number': newnumber, 'name': newname}\n",
    "        documents.append(new_dict)\n",
    "        print('Новый список документов: ', documents)     \n",
    "        for key, value in directories.items():\n",
    "            if key == ch_polka:\n",
    "                value.append(newnumber)\n",
    "        print('Новый список полок: ', directories)\n",
    "add(documents, directories)"
   ]
  },
  {
   "cell_type": "code",
   "execution_count": null,
   "metadata": {},
   "outputs": [
    {
     "name": "stdout",
     "output_type": "stream",
     "text": [
      "Введите команду a\n",
      "Введите тип нового документа: 6\n",
      "Введите номер нового документа: 6\n",
      "Введите фамилию и имя: 8999\n",
      "Введите номер полки, куда положить документ: 1\n",
      "Новый список документов:  [{'type': 'passport', 'number': '2207 876234', 'name': 'Василий Гупкин'}, {'type': 'invoice', 'number': '11-2', 'name': 'Геннадий Покемонов'}, {'type': 'insurance', 'number': '10006', 'name': 'Аристарх Павлов'}, {'type': 'pass', 'number': '888', 'name': 'Марина'}, {'type': '2', 'number': '2', 'name': '2'}, {'type': '6', 'number': '6', 'name': '8999'}]\n",
      "Новый список полок:  {'1': ['2207 876234', '11-2', '2', '6'], '2': ['10006', '888'], '3': []}\n"
     ]
    }
   ],
   "source": [
    "def main():\n",
    "    while True:\n",
    "        user_input = str(input('Введите команду '))\n",
    "        if user_input == 'p':\n",
    "            people(documents)\n",
    "        elif user_input == 's':\n",
    "            shelf(directories)\n",
    "        elif user_input == 'l':\n",
    "            list(documents)\n",
    "        elif user_input == 'as':\n",
    "            add_shelf(directories)\n",
    "        elif user_input == 'd':\n",
    "            delete(documents, directories)\n",
    "        elif user_input == 'm':\n",
    "            move(directories)\n",
    "        elif user_input == 'a':\n",
    "            add(documents, directories)\n",
    "        elif user_input == 'q':\n",
    "            break\n",
    " \n",
    "main()"
   ]
  },
  {
   "cell_type": "markdown",
   "metadata": {},
   "source": [
    "Необходимо реализовать пользовательские команды (внимание! это не название функций, которые должны быть выразительными, а команды, которые вводит пользователь, чтобы получить необходимый результат):\n",
    "  \n",
    "- p – people – команда, которая спросит номер документа и выведет имя человека, которому он принадлежит;  \n",
    "- s – shelf – команда, которая спросит номер документа и выведет номер полки, на которой он находится  \n",
    "*Правильно обработайте ситуации, когда пользователь будет вводить несуществующий документ*.\n",
    "- l – list – команда, которая выведет список всех документов в формате   \n",
    "**passport \"2207 876234\" \"Василий Гупкин\"**  \n",
    "- as – add shelf – команда, которая спросит номер новой полки и добавит ее в перечень. *Предусмотрите случай, когда пользователь добавляет полку, которая уже существует*.\n",
    "- d – delete – команда, которая спросит номер документа и удалит его из каталога и из перечня полок. *Предусмотрите сценарий, когда пользователь вводит несуществующий документ*;  \n",
    "- m – move – команда, которая спросит номер документа и целевую полку и переместит его с текущей полки на целевую. *Корректно обработайте кейсы, когда пользователь пытается переместить несуществующий документ или переместить документ на несуществующую полку*;  \n",
    "- a – add – команда, которая добавит новый документ в каталог и в перечень полок, спросив его номер, тип, имя владельца и номер полки, на котором он будет храниться. *Корректно обработайте ситуацию, когда пользователь будет пытаться добавить документ на несуществующую полку*."
   ]
  },
  {
   "cell_type": "code",
   "execution_count": null,
   "metadata": {},
   "outputs": [],
   "source": []
  },
  {
   "cell_type": "code",
   "execution_count": null,
   "metadata": {},
   "outputs": [],
   "source": []
  },
  {
   "cell_type": "code",
   "execution_count": null,
   "metadata": {},
   "outputs": [],
   "source": []
  },
  {
   "cell_type": "code",
   "execution_count": null,
   "metadata": {},
   "outputs": [],
   "source": []
  }
 ],
 "metadata": {
  "kernelspec": {
   "display_name": "Python 3",
   "language": "python",
   "name": "python3"
  },
  "language_info": {
   "codemirror_mode": {
    "name": "ipython",
    "version": 3
   },
   "file_extension": ".py",
   "mimetype": "text/x-python",
   "name": "python",
   "nbconvert_exporter": "python",
   "pygments_lexer": "ipython3",
   "version": "3.7.6"
  }
 },
 "nbformat": 4,
 "nbformat_minor": 2
}
